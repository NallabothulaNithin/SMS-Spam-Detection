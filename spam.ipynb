{
  "nbformat": 4,
  "nbformat_minor": 0,
  "metadata": {
    "colab": {
      "provenance": [],
      "authorship_tag": "ABX9TyOjU6fvrWwU9iBgonURajWO",
      "include_colab_link": true
    },
    "kernelspec": {
      "name": "python3",
      "display_name": "Python 3"
    },
    "language_info": {
      "name": "python"
    }
  },
  "cells": [
    {
      "cell_type": "markdown",
      "metadata": {
        "id": "view-in-github",
        "colab_type": "text"
      },
      "source": [
        "<a href=\"https://colab.research.google.com/github/NallabothulaNithin/SMS-Spam-Detection/blob/main/spam.ipynb\" target=\"_parent\"><img src=\"https://colab.research.google.com/assets/colab-badge.svg\" alt=\"Open In Colab\"/></a>"
      ]
    },
    {
      "cell_type": "code",
      "source": [
        "from google.colab import files\n",
        "uploaded = files.upload(\"spam.csv\")\n"
      ],
      "metadata": {
        "colab": {
          "base_uri": "https://localhost:8080/",
          "height": 73
        },
        "id": "ZBh3UhpxnLNU",
        "outputId": "e1040023-7965-4001-ce86-439f91b84af2"
      },
      "execution_count": null,
      "outputs": [
        {
          "output_type": "display_data",
          "data": {
            "text/plain": [
              "<IPython.core.display.HTML object>"
            ],
            "text/html": [
              "\n",
              "     <input type=\"file\" id=\"files-9a0b48a8-06cc-4c86-bfe0-1ffb1978632b\" name=\"files[]\" multiple disabled\n",
              "        style=\"border:none\" />\n",
              "     <output id=\"result-9a0b48a8-06cc-4c86-bfe0-1ffb1978632b\">\n",
              "      Upload widget is only available when the cell has been executed in the\n",
              "      current browser session. Please rerun this cell to enable.\n",
              "      </output>\n",
              "      <script>// Copyright 2017 Google LLC\n",
              "//\n",
              "// Licensed under the Apache License, Version 2.0 (the \"License\");\n",
              "// you may not use this file except in compliance with the License.\n",
              "// You may obtain a copy of the License at\n",
              "//\n",
              "//      http://www.apache.org/licenses/LICENSE-2.0\n",
              "//\n",
              "// Unless required by applicable law or agreed to in writing, software\n",
              "// distributed under the License is distributed on an \"AS IS\" BASIS,\n",
              "// WITHOUT WARRANTIES OR CONDITIONS OF ANY KIND, either express or implied.\n",
              "// See the License for the specific language governing permissions and\n",
              "// limitations under the License.\n",
              "\n",
              "/**\n",
              " * @fileoverview Helpers for google.colab Python module.\n",
              " */\n",
              "(function(scope) {\n",
              "function span(text, styleAttributes = {}) {\n",
              "  const element = document.createElement('span');\n",
              "  element.textContent = text;\n",
              "  for (const key of Object.keys(styleAttributes)) {\n",
              "    element.style[key] = styleAttributes[key];\n",
              "  }\n",
              "  return element;\n",
              "}\n",
              "\n",
              "// Max number of bytes which will be uploaded at a time.\n",
              "const MAX_PAYLOAD_SIZE = 100 * 1024;\n",
              "\n",
              "function _uploadFiles(inputId, outputId) {\n",
              "  const steps = uploadFilesStep(inputId, outputId);\n",
              "  const outputElement = document.getElementById(outputId);\n",
              "  // Cache steps on the outputElement to make it available for the next call\n",
              "  // to uploadFilesContinue from Python.\n",
              "  outputElement.steps = steps;\n",
              "\n",
              "  return _uploadFilesContinue(outputId);\n",
              "}\n",
              "\n",
              "// This is roughly an async generator (not supported in the browser yet),\n",
              "// where there are multiple asynchronous steps and the Python side is going\n",
              "// to poll for completion of each step.\n",
              "// This uses a Promise to block the python side on completion of each step,\n",
              "// then passes the result of the previous step as the input to the next step.\n",
              "function _uploadFilesContinue(outputId) {\n",
              "  const outputElement = document.getElementById(outputId);\n",
              "  const steps = outputElement.steps;\n",
              "\n",
              "  const next = steps.next(outputElement.lastPromiseValue);\n",
              "  return Promise.resolve(next.value.promise).then((value) => {\n",
              "    // Cache the last promise value to make it available to the next\n",
              "    // step of the generator.\n",
              "    outputElement.lastPromiseValue = value;\n",
              "    return next.value.response;\n",
              "  });\n",
              "}\n",
              "\n",
              "/**\n",
              " * Generator function which is called between each async step of the upload\n",
              " * process.\n",
              " * @param {string} inputId Element ID of the input file picker element.\n",
              " * @param {string} outputId Element ID of the output display.\n",
              " * @return {!Iterable<!Object>} Iterable of next steps.\n",
              " */\n",
              "function* uploadFilesStep(inputId, outputId) {\n",
              "  const inputElement = document.getElementById(inputId);\n",
              "  inputElement.disabled = false;\n",
              "\n",
              "  const outputElement = document.getElementById(outputId);\n",
              "  outputElement.innerHTML = '';\n",
              "\n",
              "  const pickedPromise = new Promise((resolve) => {\n",
              "    inputElement.addEventListener('change', (e) => {\n",
              "      resolve(e.target.files);\n",
              "    });\n",
              "  });\n",
              "\n",
              "  const cancel = document.createElement('button');\n",
              "  inputElement.parentElement.appendChild(cancel);\n",
              "  cancel.textContent = 'Cancel upload';\n",
              "  const cancelPromise = new Promise((resolve) => {\n",
              "    cancel.onclick = () => {\n",
              "      resolve(null);\n",
              "    };\n",
              "  });\n",
              "\n",
              "  // Wait for the user to pick the files.\n",
              "  const files = yield {\n",
              "    promise: Promise.race([pickedPromise, cancelPromise]),\n",
              "    response: {\n",
              "      action: 'starting',\n",
              "    }\n",
              "  };\n",
              "\n",
              "  cancel.remove();\n",
              "\n",
              "  // Disable the input element since further picks are not allowed.\n",
              "  inputElement.disabled = true;\n",
              "\n",
              "  if (!files) {\n",
              "    return {\n",
              "      response: {\n",
              "        action: 'complete',\n",
              "      }\n",
              "    };\n",
              "  }\n",
              "\n",
              "  for (const file of files) {\n",
              "    const li = document.createElement('li');\n",
              "    li.append(span(file.name, {fontWeight: 'bold'}));\n",
              "    li.append(span(\n",
              "        `(${file.type || 'n/a'}) - ${file.size} bytes, ` +\n",
              "        `last modified: ${\n",
              "            file.lastModifiedDate ? file.lastModifiedDate.toLocaleDateString() :\n",
              "                                    'n/a'} - `));\n",
              "    const percent = span('0% done');\n",
              "    li.appendChild(percent);\n",
              "\n",
              "    outputElement.appendChild(li);\n",
              "\n",
              "    const fileDataPromise = new Promise((resolve) => {\n",
              "      const reader = new FileReader();\n",
              "      reader.onload = (e) => {\n",
              "        resolve(e.target.result);\n",
              "      };\n",
              "      reader.readAsArrayBuffer(file);\n",
              "    });\n",
              "    // Wait for the data to be ready.\n",
              "    let fileData = yield {\n",
              "      promise: fileDataPromise,\n",
              "      response: {\n",
              "        action: 'continue',\n",
              "      }\n",
              "    };\n",
              "\n",
              "    // Use a chunked sending to avoid message size limits. See b/62115660.\n",
              "    let position = 0;\n",
              "    do {\n",
              "      const length = Math.min(fileData.byteLength - position, MAX_PAYLOAD_SIZE);\n",
              "      const chunk = new Uint8Array(fileData, position, length);\n",
              "      position += length;\n",
              "\n",
              "      const base64 = btoa(String.fromCharCode.apply(null, chunk));\n",
              "      yield {\n",
              "        response: {\n",
              "          action: 'append',\n",
              "          file: file.name,\n",
              "          data: base64,\n",
              "        },\n",
              "      };\n",
              "\n",
              "      let percentDone = fileData.byteLength === 0 ?\n",
              "          100 :\n",
              "          Math.round((position / fileData.byteLength) * 100);\n",
              "      percent.textContent = `${percentDone}% done`;\n",
              "\n",
              "    } while (position < fileData.byteLength);\n",
              "  }\n",
              "\n",
              "  // All done.\n",
              "  yield {\n",
              "    response: {\n",
              "      action: 'complete',\n",
              "    }\n",
              "  };\n",
              "}\n",
              "\n",
              "scope.google = scope.google || {};\n",
              "scope.google.colab = scope.google.colab || {};\n",
              "scope.google.colab._files = {\n",
              "  _uploadFiles,\n",
              "  _uploadFilesContinue,\n",
              "};\n",
              "})(self);\n",
              "</script> "
            ]
          },
          "metadata": {}
        },
        {
          "output_type": "stream",
          "name": "stdout",
          "text": [
            "Saving spam.csv to spam.csv/spam.csv\n"
          ]
        }
      ]
    },
    {
      "cell_type": "code",
      "source": [
        "import pandas as pd\n",
        "data = pd.read_csv(\"spam.csv/spam.csv\", encoding=\"latin-1\")\n"
      ],
      "metadata": {
        "id": "y8_Hec8tnLSp"
      },
      "execution_count": null,
      "outputs": []
    },
    {
      "cell_type": "code",
      "source": [
        "data.head(), data.columns"
      ],
      "metadata": {
        "colab": {
          "base_uri": "https://localhost:8080/"
        },
        "id": "Hfi5mMsHnLXc",
        "outputId": "e00dccf2-fb19-4017-cbc9-02463878afa1"
      },
      "execution_count": null,
      "outputs": [
        {
          "output_type": "execute_result",
          "data": {
            "text/plain": [
              "(     v1                                                 v2 Unnamed: 2  \\\n",
              " 0   ham  Go until jurong point, crazy.. Available only ...        NaN   \n",
              " 1   ham                      Ok lar... Joking wif u oni...        NaN   \n",
              " 2  spam  Free entry in 2 a wkly comp to win FA Cup fina...        NaN   \n",
              " 3   ham  U dun say so early hor... U c already then say...        NaN   \n",
              " 4   ham  Nah I don't think he goes to usf, he lives aro...        NaN   \n",
              " \n",
              "   Unnamed: 3 Unnamed: 4  \n",
              " 0        NaN        NaN  \n",
              " 1        NaN        NaN  \n",
              " 2        NaN        NaN  \n",
              " 3        NaN        NaN  \n",
              " 4        NaN        NaN  ,\n",
              " Index(['v1', 'v2', 'Unnamed: 2', 'Unnamed: 3', 'Unnamed: 4'], dtype='object'))"
            ]
          },
          "metadata": {},
          "execution_count": 12
        }
      ]
    },
    {
      "cell_type": "code",
      "source": [
        "from sklearn.model_selection import train_test_split\n",
        "from sklearn.feature_extraction.text import TfidfVectorizer\n",
        "from sklearn.naive_bayes import MultinomialNB\n",
        "from sklearn.linear_model import LogisticRegression\n",
        "from sklearn.svm import LinearSVC\n",
        "from sklearn.metrics import classification_report, accuracy_score"
      ],
      "metadata": {
        "id": "AC2I1CTSnLf0"
      },
      "execution_count": null,
      "outputs": []
    },
    {
      "cell_type": "code",
      "source": [
        "# Keep only the needed columns\n",
        "df = data[['v1', 'v2']]\n",
        "df.columns = ['label', 'message']"
      ],
      "metadata": {
        "id": "wYMek6aVnLjA"
      },
      "execution_count": null,
      "outputs": []
    },
    {
      "cell_type": "code",
      "source": [
        "# Encode labels (ham=0, spam=1)\n",
        "df['label'] = df['label'].map({'ham': 0, 'spam': 1})"
      ],
      "metadata": {
        "colab": {
          "base_uri": "https://localhost:8080/"
        },
        "id": "ijeT4oFZoLAx",
        "outputId": "fae579f5-50e4-414a-96c4-2da82ac9449d"
      },
      "execution_count": null,
      "outputs": [
        {
          "output_type": "stream",
          "name": "stderr",
          "text": [
            "/tmp/ipython-input-4237549775.py:2: SettingWithCopyWarning: \n",
            "A value is trying to be set on a copy of a slice from a DataFrame.\n",
            "Try using .loc[row_indexer,col_indexer] = value instead\n",
            "\n",
            "See the caveats in the documentation: https://pandas.pydata.org/pandas-docs/stable/user_guide/indexing.html#returning-a-view-versus-a-copy\n",
            "  df['label'] = df['label'].map({'ham': 0, 'spam': 1})\n"
          ]
        }
      ]
    },
    {
      "cell_type": "code",
      "source": [
        "# Split data\n",
        "X_train, X_test, y_train, y_test = train_test_split(df['message'], df['label'],\n",
        "                                                    test_size=0.2, random_state=42, stratify=df['label'])"
      ],
      "metadata": {
        "id": "ysJ295PKoLJC"
      },
      "execution_count": null,
      "outputs": []
    },
    {
      "cell_type": "code",
      "source": [
        "# Convert text to TF-IDF features\n",
        "tfidf = TfidfVectorizer(stop_words='english', max_features=5000)\n",
        "X_train_tfidf = tfidf.fit_transform(X_train)\n",
        "X_test_tfidf = tfidf.transform(X_test)"
      ],
      "metadata": {
        "id": "mPTZ4QkooLJ9"
      },
      "execution_count": null,
      "outputs": []
    },
    {
      "cell_type": "code",
      "source": [
        "# Initialize models\n",
        "models = {\n",
        "    \"Naive Bayes\": MultinomialNB(),\n",
        "    \"Logistic Regression\": LogisticRegression(max_iter=1000),\n",
        "    \"SVM\": LinearSVC()\n",
        "}"
      ],
      "metadata": {
        "id": "BsHVGGc3oLPL"
      },
      "execution_count": null,
      "outputs": []
    },
    {
      "cell_type": "code",
      "source": [
        "# Train & evaluate\n",
        "results = {}\n",
        "for name, model in models.items():\n",
        "    model.fit(X_train_tfidf, y_train)\n",
        "    y_pred = model.predict(X_test_tfidf)\n",
        "    results[name] = {\n",
        "        \"accuracy\": accuracy_score(y_test, y_pred),\n",
        "        \"report\": classification_report(y_test, y_pred, output_dict=True)\n",
        "    }\n",
        "\n",
        "results"
      ],
      "metadata": {
        "colab": {
          "base_uri": "https://localhost:8080/"
        },
        "id": "ksxIOpUyoLQY",
        "outputId": "58e78aeb-b0ad-42d6-9c16-a64b5b83931d"
      },
      "execution_count": null,
      "outputs": [
        {
          "output_type": "execute_result",
          "data": {
            "text/plain": [
              "{'Naive Bayes': {'accuracy': 0.9721973094170404,\n",
              "  'report': {'0': {'precision': 0.9698492462311558,\n",
              "    'recall': 0.9989648033126294,\n",
              "    'f1-score': 0.98419173890872,\n",
              "    'support': 966.0},\n",
              "   '1': {'precision': 0.9916666666666667,\n",
              "    'recall': 0.7986577181208053,\n",
              "    'f1-score': 0.8847583643122676,\n",
              "    'support': 149.0},\n",
              "   'accuracy': 0.9721973094170404,\n",
              "   'macro avg': {'precision': 0.9807579564489113,\n",
              "    'recall': 0.8988112607167174,\n",
              "    'f1-score': 0.9344750516104938,\n",
              "    'support': 1115.0},\n",
              "   'weighted avg': {'precision': 0.9727647580202958,\n",
              "    'recall': 0.9721973094170404,\n",
              "    'f1-score': 0.9709042296577143,\n",
              "    'support': 1115.0}}},\n",
              " 'Logistic Regression': {'accuracy': 0.9704035874439462,\n",
              "  'report': {'0': {'precision': 0.9669669669669669,\n",
              "    'recall': 1.0,\n",
              "    'f1-score': 0.983206106870229,\n",
              "    'support': 966.0},\n",
              "   '1': {'precision': 1.0,\n",
              "    'recall': 0.7785234899328859,\n",
              "    'f1-score': 0.8754716981132076,\n",
              "    'support': 149.0},\n",
              "   'accuracy': 0.9704035874439462,\n",
              "   'macro avg': {'precision': 0.9834834834834835,\n",
              "    'recall': 0.889261744966443,\n",
              "    'f1-score': 0.9293389024917182,\n",
              "    'support': 1115.0},\n",
              "   'weighted avg': {'precision': 0.9713812467175696,\n",
              "    'recall': 0.9704035874439462,\n",
              "    'f1-score': 0.9688093114399187,\n",
              "    'support': 1115.0}}},\n",
              " 'SVM': {'accuracy': 0.9847533632286996,\n",
              "  'report': {'0': {'precision': 0.9836901121304791,\n",
              "    'recall': 0.9989648033126294,\n",
              "    'f1-score': 0.9912686183872624,\n",
              "    'support': 966.0},\n",
              "   '1': {'precision': 0.9925373134328358,\n",
              "    'recall': 0.8926174496644296,\n",
              "    'f1-score': 0.9399293286219081,\n",
              "    'support': 149.0},\n",
              "   'accuracy': 0.9847533632286996,\n",
              "   'macro avg': {'precision': 0.9881137127816575,\n",
              "    'recall': 0.9457911264885295,\n",
              "    'f1-score': 0.9655989735045853,\n",
              "    'support': 1115.0},\n",
              "   'weighted avg': {'precision': 0.9848723838740228,\n",
              "    'recall': 0.9847533632286996,\n",
              "    'f1-score': 0.9844080316831927,\n",
              "    'support': 1115.0}}}}"
            ]
          },
          "metadata": {},
          "execution_count": 19
        }
      ]
    },
    {
      "cell_type": "code",
      "source": [
        "# Example custom messages\n",
        "new_messages = [\n",
        "    \"Congratulations! You have won a $1000 Walmart gift card. Click here to claim now!\",\n",
        "    \"Hey, are we still meeting for lunch today?\",\n",
        "    \"URGENT! Your mobile number has won $5000. Reply YES to claim.\"\n",
        "]"
      ],
      "metadata": {
        "id": "CzTnysdKo5zV"
      },
      "execution_count": null,
      "outputs": []
    },
    {
      "cell_type": "code",
      "source": [
        "# Transform using same TF-IDF vectorizer\n",
        "new_tfidf = tfidf.transform(new_messages)\n"
      ],
      "metadata": {
        "id": "KPlePaWmo52Z"
      },
      "execution_count": null,
      "outputs": []
    },
    {
      "cell_type": "code",
      "source": [
        "# Predict with SVM (best model)\n",
        "predictions = models[\"SVM\"].predict(new_tfidf)"
      ],
      "metadata": {
        "id": "foxhEYeXo6EH"
      },
      "execution_count": null,
      "outputs": []
    },
    {
      "cell_type": "code",
      "source": [
        "# Map back to labels\n",
        "labels = [\"ham\" if p == 0 else \"spam\" for p in predictions]\n",
        "\n",
        "for msg, label in zip(new_messages, labels):\n",
        "    print(f\"Message: {msg}\\nPrediction: {label}\\n\")"
      ],
      "metadata": {
        "colab": {
          "base_uri": "https://localhost:8080/"
        },
        "id": "m719FXPppAai",
        "outputId": "1f2add02-1b98-4926-d167-adc19385fbe4"
      },
      "execution_count": null,
      "outputs": [
        {
          "output_type": "stream",
          "name": "stdout",
          "text": [
            "Message: Congratulations! You have won a $1000 Walmart gift card. Click here to claim now!\n",
            "Prediction: spam\n",
            "\n",
            "Message: Hey, are we still meeting for lunch today?\n",
            "Prediction: ham\n",
            "\n",
            "Message: URGENT! Your mobile number has won $5000. Reply YES to claim.\n",
            "Prediction: spam\n",
            "\n"
          ]
        }
      ]
    },
    {
      "cell_type": "code",
      "source": [
        "# Function to predict if a message is spam or ham\n",
        "def predict_message(message, model=models[\"SVM\"], vectorizer=tfidf):\n",
        "    \"\"\"\n",
        "    Predict whether a given SMS message is spam or ham.\n",
        "    Args:\n",
        "        message (str): The SMS text\n",
        "        model: Trained classifier (default = best SVM model)\n",
        "        vectorizer: Trained TF-IDF vectorizer\n",
        "    Returns:\n",
        "        str: 'spam' or 'ham'\n",
        "    \"\"\"\n",
        "    msg_tfidf = vectorizer.transform([message])\n",
        "    prediction = model.predict(msg_tfidf)[0]\n",
        "    return \"spam\" if prediction == 1 else \"ham\"\n",
        "\n",
        "\n",
        "# ✅ Test the function\n",
        "print(predict_message(\"ZUDIO SALE MADNESS - last 3 days! B1G1 FREE for sale fits @199 or less! RUN NOW! Peep the fresh arrivals: https://shrtsms.in/ZUDIOO/bmHPfR *T&C\"))\n",
        "print(predict_message(\"Hey bro, are you coming to the party?\"))\n",
        "print(predict_message(\"B1G1 at WESTSIDE SALE - 2 days left! All sale items under Rs 499! In-store only. Don't miss out! *T&C\"))\n"
      ],
      "metadata": {
        "colab": {
          "base_uri": "https://localhost:8080/"
        },
        "id": "6EPj6R_Epffa",
        "outputId": "eb4adc2f-02ae-4acb-ed4b-cb45f6f1692c"
      },
      "execution_count": null,
      "outputs": [
        {
          "output_type": "stream",
          "name": "stdout",
          "text": [
            "ham\n",
            "ham\n",
            "ham\n"
          ]
        }
      ]
    }
  ]
}